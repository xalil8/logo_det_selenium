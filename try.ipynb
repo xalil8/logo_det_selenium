{
 "cells": [
  {
   "cell_type": "code",
   "execution_count": 26,
   "metadata": {},
   "outputs": [
    {
     "name": "stderr",
     "output_type": "stream",
     "text": [
      "/Library/Frameworks/Python.framework/Versions/3.10/lib/python3.10/site-packages/selenium/webdriver/remote/webdriver.py:925: UserWarning: name used for saved screenshot does not match file type. It should end with a `.png` extension\n",
      "  warnings.warn(\n"
     ]
    }
   ],
   "source": [
    "from selenium import webdriver\n",
    "from selenium.webdriver import ChromeOptions\n",
    "from selenium.webdriver.common.by import By\n",
    "from selenium.webdriver.support.ui import WebDriverWait\n",
    "from selenium.webdriver.support import expected_conditions as EC\n",
    "\n",
    "# Set the website URL and desired screenshot dimensions\n",
    "url = \"https://www.halkbank.com.tr/tr/dijital-bankacilik/metaverse/halkbank-metaverse.html\"\n",
    "width = 1280\n",
    "height = 720\n",
    "\n",
    "opts = ChromeOptions()\n",
    "opts.add_argument(\"--window-size=640,640\")\n",
    "opts.headless = True\n",
    "# Create a new Selenium webdriver\n",
    "driver = webdriver.Chrome(options=opts)\n",
    "\n",
    "#driver = webdriver.Chrome()\n",
    "\n",
    "\n",
    "# Set the webdriver's dimensions\n",
    "#driver.set_window_size(width, height)\n",
    "\n",
    "# Navigate to the website and wait for it to fully load\n",
    "driver.get(url)\n",
    "\n",
    "# Take the screenshot and save it to a file\n",
    "screenshot = driver.save_screenshot(\"/Users/halil/Desktop/logo_det_selenium/cagri_deneme.png\")\n",
    "\n",
    "# Close the webdriver\n",
    "driver.close()"
   ]
  },
  {
   "cell_type": "code",
   "execution_count": 9,
   "metadata": {},
   "outputs": [],
   "source": [
    "from selenium import webdriver\n",
    "\n",
    "# Set the desired width and height for the screenshot\n",
    "width = 1280\n",
    "height = 720\n",
    "\n",
    "# Create a new Selenium webdriver\n",
    "driver = webdriver.Chrome()\n",
    "\n",
    "# Set the width and height of the browser window\n",
    "driver.set_window_size(width, height)\n",
    "\n",
    "# Navigate to the website you want to take a screenshot of\n",
    "driver.get(\"https://www.halkbank.com.tr/tr/dijital-bankacilik/metaverse/halkbank-metaverse.html\")\n",
    "\n",
    "# Take a screenshot of the website\n",
    "screenshot = driver.get_screenshot_as_png()\n",
    "\n",
    "# Save the screenshot to a file\n",
    "with open(\"/Users/halil/Desktop/logo_det_selenium/deneme_v2.png\", \"wb\") as f:\n",
    "    f.write(screenshot)\n",
    "\n",
    "# Close the webdriver\n",
    "driver.close()\n",
    "\n",
    "\n",
    "\n",
    "\n",
    "\n"
   ]
  },
  {
   "cell_type": "code",
   "execution_count": 7,
   "metadata": {},
   "outputs": [
    {
     "name": "stdout",
     "output_type": "stream",
     "text": [
      "(1192, 2560, 3)\n"
     ]
    },
    {
     "data": {
      "text/plain": [
       "True"
      ]
     },
     "execution_count": 7,
     "metadata": {},
     "output_type": "execute_result"
    }
   ],
   "source": [
    "import cv2\n",
    "img = cv2.imread(\"/Users/halil/Desktop/logo_det_selenium/deneme2.png\")\n",
    "\n",
    "# Print the dimensions of the image in pixels\n",
    "print(img.shape)\n",
    "\n",
    "resized = cv2.resize(img,(720,1280))\n",
    "\n",
    "cv2.imwrite(\"/Users/halil/Desktop/logo_det_selenium/resized_deneme2.png\",resized)"
   ]
  },
  {
   "cell_type": "code",
   "execution_count": 27,
   "metadata": {},
   "outputs": [],
   "source": [
    "from selenium import webdriver\n",
    "\n",
    "# Set the window size\n",
    "width = 1280\n",
    "height = 720\n",
    "\n",
    "# Create a headless Chrome instance\n",
    "options = webdriver.ChromeOptions()\n",
    "options.add_argument(\"--headless\")\n",
    "options.add_argument(f\"--window-size={width},{height}\")\n",
    "\n",
    "# Initialize the Chrome webdriver\n",
    "driver = webdriver.Chrome(options=options)\n",
    "\n",
    "# Navigate to the website\n",
    "driver.get(\"https://www.halkbank.com.tr/tr/dijital-bankacilik/metaverse/halkbank-metaverse.html\")\n",
    "\n",
    "# Take a screenshot of the website\n",
    "screenshot = driver.get_screenshot_as_png()\n",
    "\n",
    "# Save the screenshot to a file\n",
    "with open(\"/Users/halil/Desktop/logo_det_selenium/deneme_headless.png\", \"wb\") as f:\n",
    "    f.write(screenshot)\n",
    "\n",
    "# Close the webdriver instance\n",
    "driver.close()\n"
   ]
  },
  {
   "cell_type": "code",
   "execution_count": null,
   "metadata": {},
   "outputs": [],
   "source": [
    "from selenium.webdriver.safari.webdriver import WebDriver\n",
    "\n",
    "# Set the window size\n",
    "width = 1280\n",
    "height = 720\n",
    "\n",
    "# Create a headless Safari instance\n",
    "driver = WebDriver(quiet=True)\n",
    "driver.set_window_size(width, height)\n",
    "\n",
    "# Navigate to the website\n",
    "driver.get(\"https://www.halkbank.com.tr/tr/dijital-bankacilik/metaverse/halkbank-metaverse.html\")\n",
    "\n",
    "# Take a screenshot of the website\n",
    "screenshot = driver.get_screenshot_as_png()\n",
    "\n",
    "# Save the screenshot to a file\n",
    "with open(\"/Users/halil/Desktop/logo_det_selenium/deneme_headless.png\", \"wb\") as f:\n",
    "    f.write(screenshot)\n",
    "\n",
    "# Close the webdriver instance\n",
    "driver.close()"
   ]
  },
  {
   "cell_type": "code",
   "execution_count": 28,
   "metadata": {},
   "outputs": [
    {
     "name": "stdout",
     "output_type": "stream",
     "text": [
      "Window size {'width': 1324, 'height': 850}\n"
     ]
    },
    {
     "data": {
      "text/plain": [
       "True"
      ]
     },
     "execution_count": 28,
     "metadata": {},
     "output_type": "execute_result"
    }
   ],
   "source": [
    "import time\n",
    "\n",
    "from selenium import webdriver\n",
    "from selenium.webdriver.chrome.options import Options\n",
    "\n",
    "\n",
    "url = \"https://www.halkbank.com.tr/tr/dijital-bankacilik/metaverse/halkbank-metaverse.html\"\n",
    "\n",
    "chrome_options = Options()\n",
    "chrome_options.add_argument('--window-size=1324,891')\n",
    "\n",
    "driver = webdriver.Chrome(options=chrome_options)\n",
    "# driver.set_window_size(width, height)\n",
    "\n",
    "driver.get(url)\n",
    "time.sleep(2)\n",
    "print('Window size', driver.get_window_size())\n",
    "\n",
    "driver.save_screenshot('/Users/halil/Desktop/logo_det_selenium/cagri.png')\n",
    "\n",
    "driver.close()"
   ]
  },
  {
   "cell_type": "code",
   "execution_count": null,
   "metadata": {},
   "outputs": [],
   "source": []
  }
 ],
 "metadata": {
  "kernelspec": {
   "display_name": "Python 3.10.8 64-bit",
   "language": "python",
   "name": "python3"
  },
  "language_info": {
   "codemirror_mode": {
    "name": "ipython",
    "version": 3
   },
   "file_extension": ".py",
   "mimetype": "text/x-python",
   "name": "python",
   "nbconvert_exporter": "python",
   "pygments_lexer": "ipython3",
   "version": "3.10.8"
  },
  "orig_nbformat": 4,
  "vscode": {
   "interpreter": {
    "hash": "98590ff4fe04c8543246b2a01debd3de3c5ca9b666f43f1fa87d5110c692004c"
   }
  }
 },
 "nbformat": 4,
 "nbformat_minor": 2
}
